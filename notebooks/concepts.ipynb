{
 "cells": [
  {
   "cell_type": "code",
   "execution_count": 94,
   "metadata": {},
   "outputs": [
    {
     "data": {
      "text/html": [
       "<div>\n",
       "<style scoped>\n",
       "    .dataframe tbody tr th:only-of-type {\n",
       "        vertical-align: middle;\n",
       "    }\n",
       "\n",
       "    .dataframe tbody tr th {\n",
       "        vertical-align: top;\n",
       "    }\n",
       "\n",
       "    .dataframe thead th {\n",
       "        text-align: right;\n",
       "    }\n",
       "</style>\n",
       "<table border=\"1\" class=\"dataframe\">\n",
       "  <thead>\n",
       "    <tr style=\"text-align: right;\">\n",
       "      <th></th>\n",
       "      <th>From</th>\n",
       "      <th>To</th>\n",
       "    </tr>\n",
       "  </thead>\n",
       "  <tbody>\n",
       "    <tr>\n",
       "      <th>0</th>\n",
       "      <td>Великі витрати матеріалів та сировини</td>\n",
       "      <td>Висока собівартість продукції</td>\n",
       "    </tr>\n",
       "    <tr>\n",
       "      <th>1</th>\n",
       "      <td>Висока собівартість продукції</td>\n",
       "      <td>Недостатність власних засобів</td>\n",
       "    </tr>\n",
       "    <tr>\n",
       "      <th>2</th>\n",
       "      <td>Висока собівартість продукції</td>\n",
       "      <td>Низький попит на продукцію</td>\n",
       "    </tr>\n",
       "    <tr>\n",
       "      <th>3</th>\n",
       "      <td>Значна частка пасивної частини ОФ</td>\n",
       "      <td>Висока собівартість продукції</td>\n",
       "    </tr>\n",
       "    <tr>\n",
       "      <th>4</th>\n",
       "      <td>Мала частка ТНВ в обсязі продукції</td>\n",
       "      <td>Низький попит на продукцію</td>\n",
       "    </tr>\n",
       "    <tr>\n",
       "      <th>5</th>\n",
       "      <td>Недостатній аналіз ринку</td>\n",
       "      <td>Низький попит на продукцію</td>\n",
       "    </tr>\n",
       "    <tr>\n",
       "      <th>6</th>\n",
       "      <td>Недостатній аналіз ринку</td>\n",
       "      <td>Мала частка ТНВ в обсязі продукції</td>\n",
       "    </tr>\n",
       "    <tr>\n",
       "      <th>7</th>\n",
       "      <td>Недостатність власних засобів</td>\n",
       "      <td>Низький ступінь оновлення продукції</td>\n",
       "    </tr>\n",
       "    <tr>\n",
       "      <th>8</th>\n",
       "      <td>Недостатність власних засобів</td>\n",
       "      <td>Старіння оборотних фондів ОФ</td>\n",
       "    </tr>\n",
       "    <tr>\n",
       "      <th>9</th>\n",
       "      <td>Низька виконавча дисципліна</td>\n",
       "      <td>Висока собівартість продукції</td>\n",
       "    </tr>\n",
       "    <tr>\n",
       "      <th>10</th>\n",
       "      <td>Низький ступінь оновлення продукції</td>\n",
       "      <td>Низький попит на продукцію</td>\n",
       "    </tr>\n",
       "    <tr>\n",
       "      <th>11</th>\n",
       "      <td>Низький обсяг виробництва</td>\n",
       "      <td>Недостатність власних засобів</td>\n",
       "    </tr>\n",
       "    <tr>\n",
       "      <th>12</th>\n",
       "      <td>Низький попит на продукцію</td>\n",
       "      <td>Низький обсяг виробництва</td>\n",
       "    </tr>\n",
       "    <tr>\n",
       "      <th>13</th>\n",
       "      <td>Низький рівень стратегічного планування</td>\n",
       "      <td>Низька виконавча дисципліна</td>\n",
       "    </tr>\n",
       "    <tr>\n",
       "      <th>14</th>\n",
       "      <td>Низький рівень стратегічного планування</td>\n",
       "      <td>Слабке просування продукції на ринку</td>\n",
       "    </tr>\n",
       "    <tr>\n",
       "      <th>15</th>\n",
       "      <td>Низький рівень стратегічного планування</td>\n",
       "      <td>Мала частка ТНП в обсязі продукції</td>\n",
       "    </tr>\n",
       "    <tr>\n",
       "      <th>16</th>\n",
       "      <td>Низький рівень стратегічного планування</td>\n",
       "      <td>Недостатній аналіз ринку</td>\n",
       "    </tr>\n",
       "    <tr>\n",
       "      <th>17</th>\n",
       "      <td>Слабке просування продукції на ринку</td>\n",
       "      <td>Низький попит на продукцію</td>\n",
       "    </tr>\n",
       "    <tr>\n",
       "      <th>18</th>\n",
       "      <td>Старіння оборотних фондів ОФ</td>\n",
       "      <td>Висока собівартість продукції</td>\n",
       "    </tr>\n",
       "    <tr>\n",
       "      <th>19</th>\n",
       "      <td>Старіння оборотних фондів ОФ</td>\n",
       "      <td>Великі витрати матеріалів і сировини</td>\n",
       "    </tr>\n",
       "    <tr>\n",
       "      <th>20</th>\n",
       "      <td>Старіння оборотних фондів ОФ</td>\n",
       "      <td>Низький ступінь оновлення продукції</td>\n",
       "    </tr>\n",
       "  </tbody>\n",
       "</table>\n",
       "</div>"
      ],
      "text/plain": [
       "                                       From  \\\n",
       "0     Великі витрати матеріалів та сировини   \n",
       "1             Висока собівартість продукції   \n",
       "2             Висока собівартість продукції   \n",
       "3         Значна частка пасивної частини ОФ   \n",
       "4        Мала частка ТНВ в обсязі продукції   \n",
       "5                  Недостатній аналіз ринку   \n",
       "6                  Недостатній аналіз ринку   \n",
       "7             Недостатність власних засобів   \n",
       "8             Недостатність власних засобів   \n",
       "9               Низька виконавча дисципліна   \n",
       "10      Низький ступінь оновлення продукції   \n",
       "11                Низький обсяг виробництва   \n",
       "12               Низький попит на продукцію   \n",
       "13  Низький рівень стратегічного планування   \n",
       "14  Низький рівень стратегічного планування   \n",
       "15  Низький рівень стратегічного планування   \n",
       "16  Низький рівень стратегічного планування   \n",
       "17     Слабке просування продукції на ринку   \n",
       "18             Старіння оборотних фондів ОФ   \n",
       "19             Старіння оборотних фондів ОФ   \n",
       "20             Старіння оборотних фондів ОФ   \n",
       "\n",
       "                                      To  \n",
       "0          Висока собівартість продукції  \n",
       "1          Недостатність власних засобів  \n",
       "2             Низький попит на продукцію  \n",
       "3          Висока собівартість продукції  \n",
       "4             Низький попит на продукцію  \n",
       "5             Низький попит на продукцію  \n",
       "6     Мала частка ТНВ в обсязі продукції  \n",
       "7    Низький ступінь оновлення продукції  \n",
       "8           Старіння оборотних фондів ОФ  \n",
       "9          Висока собівартість продукції  \n",
       "10            Низький попит на продукцію  \n",
       "11         Недостатність власних засобів  \n",
       "12             Низький обсяг виробництва  \n",
       "13           Низька виконавча дисципліна  \n",
       "14  Слабке просування продукції на ринку  \n",
       "15    Мала частка ТНП в обсязі продукції  \n",
       "16              Недостатній аналіз ринку  \n",
       "17            Низький попит на продукцію  \n",
       "18         Висока собівартість продукції  \n",
       "19  Великі витрати матеріалів і сировини  \n",
       "20   Низький ступінь оновлення продукції  "
      ]
     },
     "execution_count": 94,
     "metadata": {},
     "output_type": "execute_result"
    }
   ],
   "source": [
    "import pandas as pd\n",
    "\n",
    "problem_map = pd.read_csv('../data/factors.csv')\n",
    "\n",
    "problem_map"
   ]
  },
  {
   "cell_type": "markdown",
   "metadata": {},
   "source": [
    "# Хід роботи\n",
    "\n",
    "1. Побудуємо карту проблеми, яка відображає основні взаємозв’язки причин і наслідків проблемної ситуації."
   ]
  },
  {
   "cell_type": "code",
   "execution_count": 95,
   "metadata": {},
   "outputs": [
    {
     "data": {
      "image/png": "[encoded data removed]",
      "text/plain": [
       "<IPython.core.display.Image object>"
      ]
     },
     "execution_count": 95,
     "metadata": {},
     "output_type": "execute_result"
    }
   ],
   "source": [
    "import graphviz # for visualizing the graph\n",
    "from IPython.display import display, Markdown # for displaying the graph in the notebook\n",
    "from IPython import display as render\n",
    "import numpy as np # for manipulating arrays\n",
    "import ast  # for converting embeddings saved as strings back to arrays\n",
    "from openai import OpenAI # for calling the OpenAI API\n",
    "import pandas as pd  # for storing text and embeddings data\n",
    "import os # for getting API token from env variable OPENAI_API_KEY\n",
    "from scipy import spatial  # for calculating vector similarities for search\n",
    "from dotenv import load_dotenv # for loading environment variables from .env file\n",
    "\n",
    "load_dotenv()\n",
    "\n",
    "graphviz.set_jupyter_format('svg')\n",
    "\n",
    "G = graphviz.Digraph()\n",
    "\n",
    "G.attr(rankdir='TB', size='15')\n",
    "G.attr('node', shape='plaintext')\n",
    "\n",
    "# add the vertices\n",
    "[G.node(str(x)) for x in np.unique(problem_map[['From', 'To']].values.flatten())]\n",
    "# add the edges\n",
    "[G.edge(str(x[1][0]), str(x[1][1])) for x in problem_map.iterrows()]\n",
    "\n",
    "render.Image(G.pipe(format='png'))\n"
   ]
  },
  {
   "cell_type": "markdown",
   "metadata": {},
   "source": [
    "## За допомогою ChatGPT завантажуємо та аналізуємо карту проблем, та отримуємо відповіді на питання"
   ]
  },
  {
   "cell_type": "code",
   "execution_count": 96,
   "metadata": {},
   "outputs": [],
   "source": [
    "GPT_MODEL = \"gpt-4\"\n",
    "\n",
    "openai = OpenAI(\n",
    "    # This is the default and can be omitted\n",
    "    api_key=os.environ.get(\"OPENAI_API_KEY\"),\n",
    ")\n",
    "\n",
    "def query_message(\n",
    "    query: str\n",
    ") -> str:\n",
    "    message = f\"\"\"\n",
    "    Об’єктом дослідження буде підприємство “Вітара”. ВАТ “Вітара” – це компанія середнього масштабу, яка виготовляє електродвигуни та насоси, а також товари народного споживання. Останнім часом компанія мала високу репутацію завдяки високій якості продукції та сервісу. Однак ситуація змінилася.\n",
    "\n",
    "    По-перше, різко скоротилася кількість замовлень на основну продукцію підприємства – електродвигуни для насосних станцій. При цьому зменшення платоспроможного попиту супроводжувалося підвищенням вимог замовників до характеристик продукції.\n",
    "\n",
    "    По-друге, була здійснена приватизація. З цього часу розвиток виробництва необхідно було здійснювати вже не за рахунок централізованих джерел, а за рахунок самостійно зароблених коштів. Як наслідок – упродовж останніх років компанія звітує про збитки.\n",
    "    \n",
    "    Про стан підприємства свідчать такі цифри: половина основних фондів експлуатується понад 25 років; номенклатура продукції заводу оновлюється щорічно тільки на 1-2 %; рівень витрат на 1 грн. продукції становить 90 коп. при плані 75 коп.\n",
    "   \n",
    "    Проаналізуй карту проблем для ВАТ “Вітара”, що наведено далі у DOT форматі\n",
    "    \n",
    "    ```\n",
    "    {problem_map}\n",
    "    ```\n",
    "    \n",
    "    Якщо відповідь не може бути знайдена, напиши \"Я не можу надати відповідь на ваш запит.\"\n",
    "    \"\"\"\n",
    "    question = f\"\\n\\nПитання: {query}\"\n",
    "    \n",
    "    return message + question\n",
    "\n",
    "\n",
    "def ask(\n",
    "    query: str,\n",
    "    print_message: bool = False,\n",
    ") -> str:\n",
    "    \"\"\"Відповідь на запит, використовуючи GPT\"\"\"\n",
    "    message = query_message(query)\n",
    "    if print_message:\n",
    "        print(message)\n",
    "    messages = [\n",
    "        {\"role\": \"system\", \"content\": \"Ви відповідаєте на запитання про підприємство ВАТ Вітара\"},\n",
    "        {\"role\": \"user\", \"content\": message},\n",
    "    ]\n",
    "    response = openai.chat.completions.create(\n",
    "        model=GPT_MODEL,\n",
    "        messages=messages,\n",
    "        temperature=0\n",
    "    )\n",
    "    response_message = response.choices[0].message.content\n",
    "    return response_message"
   ]
  },
  {
   "cell_type": "code",
   "execution_count": 97,
   "metadata": {},
   "outputs": [
    {
     "name": "stdout",
     "output_type": "stream",
     "text": [
      "1. Великі витрати матеріалів та сировини ведуть до високої собівартості продукції. Це, в свою чергу, призводить до недостатності власних засобів і низького попиту на продукцію.\n",
      "\n",
      "2. Недостатній аналіз ринку призводить до низького попиту на продукцію і малої частки товарів народного споживання в обсязі продукції.\n",
      "\n",
      "3. Старіння оборотних фондів об'єктів фіксованого активу призводить до високої собівартості продукції, великих витрат матеріалів і сировини, а також низького ступеня оновлення продукції.\n"
     ]
    }
   ],
   "source": [
    "result = ask('Які 3 ключові причинно-наслідкових зв’язки? Відповідь надай нумерованим списком.')\n",
    "print(result)"
   ]
  },
  {
   "cell_type": "code",
   "execution_count": 104,
   "metadata": {},
   "outputs": [
    {
     "name": "stdout",
     "output_type": "stream",
     "text": [
      "На основі наведеної інформації, можна визначити наступні три основні завдання антикризового управління ВАТ \"Вітара\":\n",
      "\n",
      "1. Зниження витрат на виробництво: ВАТ \"Вітара\" має великі витрати на матеріали та сировину, що призводить до високої собівартості продукції. Отже, одним з основних завдань є оптимізація виробничого процесу та зниження витрат.\n",
      "\n",
      "2. Підвищення якості та оновлення продукції: Згідно з даними, номенклатура продукції заводу оновлюється лише на 1-2% щорічно. Це може бути однією з причин зниження попиту на продукцію. Тому другим завданням є розробка нових продуктів або модернізація існуючих, щоб відповідати вимогам ринку.\n",
      "\n",
      "3. Покращення стратегічного планування та аналізу ринку: Низький рівень стратегічного планування та недостатній аналіз ринку також впливають на ефективність підприємства. Тому третім завданням є розробка ефективної стратегії розвитку та проведення глибокого аналізу ринку для визначення потреб споживачів та конкурентного середовища.\n"
     ]
    }
   ],
   "source": [
    "result = ask('Які 3 основні завдання антикризового управління ВАТ Вітара? Відповідь надай нумерованим списком.')\n",
    "print(result)"
   ]
  },
  {
   "cell_type": "code",
   "execution_count": 99,
   "metadata": {},
   "outputs": [
    {
     "name": "stdout",
     "output_type": "stream",
     "text": [
      "1. Підсистема внутрішніх проблем:\n",
      "    - Великі витрати матеріалів та сировини\n",
      "    - Висока собівартість продукції\n",
      "    - Значна частка пасивної частини основних фондів\n",
      "    - Мала частка товарів народного споживання в обсязі продукції\n",
      "    - Недостатність власних засобів\n",
      "    - Низька виконавча дисципліна\n",
      "    - Низький ступінь оновлення продукції\n",
      "    - Старіння оборотних фондів основних фондів\n",
      "\n",
      "2. Підсистема зовнішніх проблем:\n",
      "    - Недостатній аналіз ринку\n",
      "    - Низький обсяг виробництва\n",
      "    - Низький попит на продукцію\n",
      "    - Низький рівень стратегічного планування\n",
      "    - Слабке просування продукції на ринку\n"
     ]
    }
   ],
   "source": [
    "result = ask('Які 2 відносно незалежні підсистеми чинників, включаючи елементи, які сприяють погіршенню кризового становища у ВАТ “Вітара”? Відповідь надай нумерованим списком.')\n",
    "print(result)"
   ]
  },
  {
   "cell_type": "code",
   "execution_count": 100,
   "metadata": {},
   "outputs": [
    {
     "data": {
      "text/markdown": [
       "На основі наведеної таблиці можна виділити наступні петлі зворотного зв'язку між кризовими факторами у ВАТ \"Вітара\":\n",
       "\n",
       "1. **Петля \"Висока собівартість продукції\"**\n",
       "    - Великі витрати матеріалів та сировини\n",
       "    - Висока собівартість продукції\n",
       "    - Недостатність власних засобів\n",
       "    - Старіння оборотних фондів ОФ\n",
       "    - Великі витрати матеріалів і сировини\n",
       "\n",
       "2. **Петля \"Низький попит на продукцію\"**\n",
       "    - Висока собівартість продукції\n",
       "    - Низький попит на продукцію\n",
       "    - Низький обсяг виробництва\n",
       "    - Недостатність власних засобів\n",
       "    - Старіння оборотних фондів ОФ\n",
       "    - Великі витрати матеріалів і сировини\n",
       "\n",
       "3. **Петля \"Недостатній аналіз ринку\"**\n",
       "    - Недостатній аналіз ринку\n",
       "    - Низький попит на продукцію\n",
       "    - Низький обсяг виробництва\n",
       "    - Недостатність власних засобів\n",
       "    - Старіння оборотних фондів ОФ\n",
       "    - Великі витрати матеріалів і сировини\n",
       "\n",
       "4. **Петля \"Низький рівень стратегічного планування\"**\n",
       "    - Низький рівень стратегічного планування\n",
       "    - Низька виконавча дисципліна\n",
       "    - Висока собівартість продукції\n",
       "    - Недостатність власних засобів\n",
       "    - Старіння оборотних фондів ОФ\n",
       "    - Великі витрати матеріалів і сировини\n",
       "\n",
       "Ці петлі зворотного зв'язку вказують на взаємозв'язок між різними проблемами підприємства, що може ускладнити процес їх вирішення."
      ],
      "text/plain": [
       "<IPython.core.display.Markdown object>"
      ]
     },
     "metadata": {},
     "output_type": "display_data"
    }
   ],
   "source": [
    "result = ask('Який склад петель зворотного зв’язку між кризовими факторами у ВАТ “Вітара”? Виділи назви петель жирним, елементи що входять у петлю перелічи у підпунктах, відповідь надай нумерованим списком.')\n",
    "display(Markdown(result))"
   ]
  },
  {
   "cell_type": "code",
   "execution_count": 101,
   "metadata": {},
   "outputs": [
    {
     "name": "stdout",
     "output_type": "stream",
     "text": [
      "На основі наведеної карти проблем, причинами недостатності власних фінансових коштів підприємства є висока собівартість продукції та низький обсяг виробництва.\n"
     ]
    }
   ],
   "source": [
    "result = ask('Які причини недостатності власних фінансових коштів підприємства?')\n",
    "print(result)"
   ]
  },
  {
   "cell_type": "code",
   "execution_count": 105,
   "metadata": {},
   "outputs": [
    {
     "data": {
      "text/markdown": [
       "| Проблема | Варіант вирішення | Критерії оцінювання | Оцінка за 10-ти бальною шкалою | Обгрунтування | Сумарна оцінка |\n",
       "| --- | --- | --- | --- | --- | --- |\n",
       "| Висока собівартість продукції | Оптимізація виробничого процесу | Вартість, ефективність, швидкість впровадження | 7, 8, 6 | Може зменшити витрати, але потребує часу на впровадження | 21 |\n",
       "| Низький обсяг виробництва | Розширення ринку збуту | Вартість, ефективність, швидкість впровадження | 6, 9, 7 | Може збільшити обсяги виробництва, але потребує інвестицій в маркетинг | 22 |\n",
       "| Недостатність власних засобів | Залучення інвестицій | Вартість, ефективність, швидкість впровадження | 8, 7, 9 | Може забезпечити необхідні кошти, але потребує часу на пошук інвесторів | 24 |\n",
       "\n",
       "Висновок: Найбільш ефективним варіантом вирішення проблеми недостатності власних фінансових коштів ВАТ Вітара є залучення інвестицій, оскільки це дає найвищу сумарну оцінку за всіма критеріями."
      ],
      "text/plain": [
       "<IPython.core.display.Markdown object>"
      ]
     },
     "metadata": {},
     "output_type": "display_data"
    }
   ],
   "source": [
    "result = ask('Які 3 альтернативні варіанти вирішення проблеми недостатності власних фінансових коштів ВАТ Вітара через високу собівартість продукції та низький обсяг виробництва? Відповідь сформуй у вигляді таблиці з колонками: проблема, варіант вирішення, критерії оцінювання, оцінка за 10-ти бальною шкалою кожного критерія та обгрунтування, сумарна оцінка за всією множиною критеріїв.')\n",
    "display(Markdown(result))"
   ]
  },
  {
   "cell_type": "markdown",
   "metadata": {},
   "source": [
    "# Висновки\n",
    "\n",
    "У даній лабораторній роботі ми використали OpenAI API (модель GPT-4) для виконання завдань лабораторної роботи. Було продемонстровано застосування \"штучного інтелекту\" для виконання і створено прототип алгоритму для аналізу аналогічних задач.\n",
    "\n",
    "Роботу можна доопрацювати, наприклад покращити відобрадення карти проблем і виділити (або створити інтерактивну модель) для відображення:\n",
    "- кластерів\n",
    "- петель зворотнього зв'язку\n",
    "- виділення відносно незалежних підсистем чинників та їх елементів\n",
    "\n",
    "Незважаючи на чудовий фінальний результат у таблиці, для власного підприємства я би використовував би тільки як додаткову інформацію для прийняття рішення.\n"
   ]
  }
 ],
 "metadata": {
  "kernelspec": {
   "display_name": "Python 3.10.4 64-bit",
   "language": "python",
   "name": "python3"
  },
  "language_info": {
   "codemirror_mode": {
    "name": "ipython",
    "version": 3
   },
   "file_extension": ".py",
   "mimetype": "text/x-python",
   "name": "python",
   "nbconvert_exporter": "python",
   "pygments_lexer": "ipython3",
   "version": "3.10.13"
  },
  "orig_nbformat": 4,
  "vscode": {
   "interpreter": {
    "hash": "3ad933181bd8a04b432d3370b9dc3b0662ad032c4dfaa4e4f1596c548f763858"
   }
  }
 },
 "nbformat": 4,
 "nbformat_minor": 2
}
